{
 "cells": [
  {
   "cell_type": "code",
   "execution_count": 1,
   "metadata": {},
   "outputs": [],
   "source": [
    "import torch\n",
    "import torch.nn as nn\n",
    "import torch.optim as optim\n",
    "import torch.nn.functional as F\n",
    "from torch.utils.data import DataLoader\n",
    "\n",
    "import matplotlib.pyplot as plt\n",
    "from sklearn.datasets import fetch_openml\n",
    "from sklearn.model_selection import train_test_split\n",
    "import pandas as pd\n",
    "\n",
    "BATCH_SIZE = 32\n",
    "EPOCHS = 1\n",
    "\n",
    "class Network(nn.Module):\n",
    "    def __init__(self, input_size, hidden_size_1,hidden_size_2, output_size):\n",
    "        super(Network, self).__init__()\n",
    "        self.fc1 = nn.Linear(input_size, hidden_size_1)\n",
    "        self.fc2 = nn.Linear(hidden_size_1, hidden_size_2)\n",
    "        self.fc3 = nn.Linear(hidden_size_2, output_size)\n",
    "        self.dropout = nn.Dropout(0.2)\n",
    "        \n",
    "    def forward(self, x):\n",
    "        x = F.relu(self.fc1(x))\n",
    "        #x = self.dropout(x)\n",
    "        x = F.relu(self.fc2(x))\n",
    "        #x = self.dropout(x)\n",
    "        x = F.relu(self.fc3(x))\n",
    "        return x\n",
    "    \n",
    "    def fit(self, X, y):\n",
    "        optimizer = optim.SGD(self.parameters(), lr=0.01)\n",
    "        #criterion = nn.MSELoss()\n",
    "        criterion = nn.CrossEntropyLoss()\n",
    "        \n",
    "        optimizer.zero_grad()\n",
    "        output = self(X)\n",
    "        loss = criterion(output, y)\n",
    "        loss.backward()\n",
    "        optimizer.step()\n",
    "    \n",
    "    def predict(self, X):\n",
    "        return self(X)"
   ]
  },
  {
   "cell_type": "code",
   "execution_count": 2,
   "metadata": {},
   "outputs": [],
   "source": [
    "digits = fetch_openml('mnist_784')\n",
    "\n",
    "target = pd.get_dummies(digits.target).astype(int)\n",
    "target = target.to_numpy()\n",
    "target = torch.tensor(target, dtype=torch.float32)\n",
    "\n",
    "data = digits.data.to_numpy()\n",
    "data = data / 255\n",
    "data = torch.tensor(data, dtype=torch.float32)\n",
    "\n",
    "X_train, X_test, y_train, y_test = train_test_split(data, target, test_size=0.2, random_state=42)"
   ]
  },
  {
   "cell_type": "code",
   "execution_count": 5,
   "metadata": {},
   "outputs": [],
   "source": [
    "network = Network(784, 64, 32, 10)\n",
    "network.train()\n",
    "for epoch in range(EPOCHS):\n",
    "    for i in range(0, len(X_train), BATCH_SIZE):\n",
    "        batch_X = X_train[i:i+BATCH_SIZE]\n",
    "        batch_y = y_train[i:i+BATCH_SIZE]\n",
    "        network.fit(batch_X, batch_y)"
   ]
  },
  {
   "cell_type": "code",
   "execution_count": 6,
   "metadata": {},
   "outputs": [
    {
     "data": {
      "text/plain": [
       "tensor(0.7034)"
      ]
     },
     "execution_count": 6,
     "metadata": {},
     "output_type": "execute_result"
    }
   ],
   "source": [
    "network.eval()\n",
    "y_pred = network.predict(X_test)\n",
    "pred_argmax = torch.argmax(y_pred, dim=1)\n",
    "true_argmax = torch.argmax(y_test, dim=1)\n",
    "pred_argmax == true_argmax\n",
    "result = (pred_argmax == true_argmax).int()\n",
    "result\n",
    "torch.mean(result.float())"
   ]
  },
  {
   "cell_type": "code",
   "execution_count": 11,
   "metadata": {},
   "outputs": [
    {
     "data": {
      "text/plain": [
       "tensor([[0.0000, 0.0000, 0.0000, 0.0000, 0.0000, 0.0000, 0.0000, 0.0000, 8.1553,\n",
       "         0.0000],\n",
       "        [0.0000, 0.0000, 0.0000, 0.0000, 0.0000, 0.0000, 0.0000, 0.0000, 0.0000,\n",
       "         0.0000],\n",
       "        [0.0000, 0.0000, 0.0000, 0.0000, 0.0000, 0.0000, 0.0000, 0.0000, 1.0981,\n",
       "         0.0000],\n",
       "        [0.0000, 0.0000, 0.1028, 2.1515, 0.0000, 0.0000, 0.0000, 5.5115, 0.0000,\n",
       "         0.0000],\n",
       "        [0.0000, 0.0000, 0.0000, 0.0000, 0.0000, 0.0000, 0.0000, 6.7445, 0.0000,\n",
       "         0.0000],\n",
       "        [8.3331, 0.0000, 4.3794, 0.0000, 0.0000, 0.0000, 0.4915, 0.0000, 0.0000,\n",
       "         0.0000],\n",
       "        [0.0000, 0.0000, 0.0000, 0.0000, 0.0000, 0.0000, 5.2436, 0.0000, 0.0798,\n",
       "         0.0000],\n",
       "        [0.0000, 0.0000, 5.2332, 0.0000, 0.0000, 0.0000, 0.0000, 0.0000, 2.3691,\n",
       "         0.0000],\n",
       "        [0.0000, 1.1204, 0.1120, 1.8463, 0.0000, 0.0000, 0.0000, 5.2361, 0.0000,\n",
       "         0.0000],\n",
       "        [0.0000, 0.0000, 0.0000, 0.0000, 0.0000, 0.0000, 0.0000, 1.5172, 0.0000,\n",
       "         0.0000]], grad_fn=<SliceBackward0>)"
      ]
     },
     "execution_count": 11,
     "metadata": {},
     "output_type": "execute_result"
    }
   ],
   "source": [
    "y_pred[:10]"
   ]
  },
  {
   "cell_type": "code",
   "execution_count": null,
   "metadata": {},
   "outputs": [],
   "source": []
  }
 ],
 "metadata": {
  "kernelspec": {
   "display_name": "pytorch_env",
   "language": "python",
   "name": "python3"
  },
  "language_info": {
   "codemirror_mode": {
    "name": "ipython",
    "version": 3
   },
   "file_extension": ".py",
   "mimetype": "text/x-python",
   "name": "python",
   "nbconvert_exporter": "python",
   "pygments_lexer": "ipython3",
   "version": "3.10.13"
  }
 },
 "nbformat": 4,
 "nbformat_minor": 2
}
